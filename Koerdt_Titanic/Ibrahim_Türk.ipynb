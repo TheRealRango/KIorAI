{
 "cells": [
  {
   "cell_type": "markdown",
   "id": "9ed5860f-d705-44a5-a8cb-9f71529f2179",
   "metadata": {},
   "source": [
    "Mit import, Importieren wir von Bibliotheken für die explorative Datenanalyse und das Plotten (Grafische Darstellung).\n",
    "Und mit \"as\" wurden die Namen auf verkürzte schreibweise geändert."
   ]
  },
  {
   "cell_type": "code",
   "execution_count": 18,
   "id": "da91f374-ceb6-4d2c-a4b6-d0687ee1b61c",
   "metadata": {},
   "outputs": [],
   "source": [
    "import pandas as pd\n",
    "import numpy as np\n",
    "import matplotlib.pyplot as plt\n",
    "%matplotlib inline\n",
    "import seaborn as sns\n",
    "import warnings\n",
    "warnings.filterwarnings(\"ignore\")"
   ]
  },
  {
   "cell_type": "markdown",
   "id": "5b43a1af-a8ca-40c8-98cc-5f93b31ba5ac",
   "metadata": {},
   "source": [
    "Datensatz importieren.\n",
    "df.head() gibt eine DataFrame zurück, die die ersten n Zeilen von df enthält"
   ]
  },
  {
   "cell_type": "markdown",
   "id": "4e7d92dd-b139-4ff2-93a4-6182a15d97f0",
   "metadata": {},
   "source": [
    "df = pd.read_csv(\"World Population.csv\")\n",
    "df.head()\n",
    "df.info()"
   ]
  },
  {
   "cell_type": "markdown",
   "id": "9828eab4-bf5d-4e78-b09d-caa24bc36c54",
   "metadata": {},
   "source": [
    "describe(), Die Funktion hat die Zusammenfassung der Statistik des DataFrame zurückzugeben. \n",
    "Wir haben keine Parameter übergeben, daher hat die Funktion alle Standardwerte verwendet."
   ]
  },
  {
   "cell_type": "code",
   "execution_count": 12,
   "id": "d9dc3b5c-c9af-4f89-a57f-0c40ff4245d4",
   "metadata": {},
   "outputs": [
    {
     "data": {
      "text/html": [
       "<div>\n",
       "<style scoped>\n",
       "    .dataframe tbody tr th:only-of-type {\n",
       "        vertical-align: middle;\n",
       "    }\n",
       "\n",
       "    .dataframe tbody tr th {\n",
       "        vertical-align: top;\n",
       "    }\n",
       "\n",
       "    .dataframe thead th {\n",
       "        text-align: right;\n",
       "    }\n",
       "</style>\n",
       "<table border=\"1\" class=\"dataframe\">\n",
       "  <thead>\n",
       "    <tr style=\"text-align: right;\">\n",
       "      <th></th>\n",
       "      <th>Rank</th>\n",
       "      <th>Population</th>\n",
       "    </tr>\n",
       "  </thead>\n",
       "  <tbody>\n",
       "    <tr>\n",
       "      <th>count</th>\n",
       "      <td>241.000000</td>\n",
       "      <td>2.410000e+02</td>\n",
       "    </tr>\n",
       "    <tr>\n",
       "      <th>mean</th>\n",
       "      <td>121.000000</td>\n",
       "      <td>3.232089e+07</td>\n",
       "    </tr>\n",
       "    <tr>\n",
       "      <th>std</th>\n",
       "      <td>69.714896</td>\n",
       "      <td>1.326931e+08</td>\n",
       "    </tr>\n",
       "    <tr>\n",
       "      <th>min</th>\n",
       "      <td>1.000000</td>\n",
       "      <td>4.000000e+01</td>\n",
       "    </tr>\n",
       "    <tr>\n",
       "      <th>25%</th>\n",
       "      <td>61.000000</td>\n",
       "      <td>3.012950e+05</td>\n",
       "    </tr>\n",
       "    <tr>\n",
       "      <th>50%</th>\n",
       "      <td>121.000000</td>\n",
       "      <td>5.227193e+06</td>\n",
       "    </tr>\n",
       "    <tr>\n",
       "      <th>75%</th>\n",
       "      <td>181.000000</td>\n",
       "      <td>1.967836e+07</td>\n",
       "    </tr>\n",
       "    <tr>\n",
       "      <th>max</th>\n",
       "      <td>241.000000</td>\n",
       "      <td>1.411779e+09</td>\n",
       "    </tr>\n",
       "  </tbody>\n",
       "</table>\n",
       "</div>"
      ],
      "text/plain": [
       "             Rank    Population\n",
       "count  241.000000  2.410000e+02\n",
       "mean   121.000000  3.232089e+07\n",
       "std     69.714896  1.326931e+08\n",
       "min      1.000000  4.000000e+01\n",
       "25%     61.000000  3.012950e+05\n",
       "50%    121.000000  5.227193e+06\n",
       "75%    181.000000  1.967836e+07\n",
       "max    241.000000  1.411779e+09"
      ]
     },
     "execution_count": 12,
     "metadata": {},
     "output_type": "execute_result"
    }
   ],
   "source": [
    "df.describe() "
   ]
  },
  {
   "cell_type": "markdown",
   "id": "bf73ed74-86af-4e46-8788-9de52a5bfd75",
   "metadata": {},
   "source": [
    "info()-Funktion. \n",
    "Die info()-Funktion wird verwendet, um eine kurze Zusammenfassung eines DataFrame zu drucken. \n",
    "Diese Methode gibt Informationen über einen DataFrame aus, \n",
    "einschließlich des Index-Dtypes und der Spalten-Dtypes, \n",
    "Nicht-Null-Werte und Speichernutzung"
   ]
  },
  {
   "cell_type": "code",
   "execution_count": 19,
   "id": "2d904c09-d9e3-4a12-b91f-5b81b811f333",
   "metadata": {},
   "outputs": [
    {
     "name": "stdout",
     "output_type": "stream",
     "text": [
      "<class 'pandas.core.frame.DataFrame'>\n",
      "RangeIndex: 241 entries, 0 to 240\n",
      "Data columns (total 6 columns):\n",
      " #   Column      Non-Null Count  Dtype \n",
      "---  ------      --------------  ----- \n",
      " 0   Rank        241 non-null    int64 \n",
      " 1   Country     241 non-null    object\n",
      " 2   Region      241 non-null    object\n",
      " 3   Population  241 non-null    int64 \n",
      " 4   Percentage  241 non-null    object\n",
      " 5   Date        241 non-null    object\n",
      "dtypes: int64(2), object(4)\n",
      "memory usage: 11.4+ KB\n"
     ]
    }
   ],
   "source": [
    "df.info()"
   ]
  },
  {
   "cell_type": "markdown",
   "id": "8748c91a-c5e8-4170-b847-20b80df50564",
   "metadata": {},
   "source": [
    "Werte für die Suche nach Region zählen.\n",
    "Die Methode value_counts() gibt eine Serie zurück, die die Anzahl eindeutiger Werte enthält.\n",
    "Die Funktion sort_values() sortiert einen Datenrahmen in aufsteigender oder absteigender Reihenfolge der übergebenen Spalte. Hier ist es aufsteigend mit ascending= True\n",
    "und unten aufsteigend indem man statt \"True\" \"False\" eingibt.\n"
   ]
  },
  {
   "cell_type": "code",
   "execution_count": 21,
   "id": "de060cba-54f0-4b5e-a8d2-276983e67c30",
   "metadata": {},
   "outputs": [
    {
     "data": {
      "text/plain": [
       "Europe,Asia     1\n",
       "Asia,Europe     1\n",
       "Oceania        27\n",
       "Americas       51\n",
       "Europe         52\n",
       "Asia           53\n",
       "Africa         56\n",
       "Name: Region, dtype: int64"
      ]
     },
     "execution_count": 21,
     "metadata": {},
     "output_type": "execute_result"
    }
   ],
   "source": [
    "df.Region.value_counts().sort_values(ascending=True)"
   ]
  },
  {
   "cell_type": "code",
   "execution_count": 27,
   "id": "fef801ff-cef4-4c06-bebf-047b4e055845",
   "metadata": {},
   "outputs": [
    {
     "data": {
      "text/plain": [
       "Africa         56\n",
       "Asia           53\n",
       "Europe         52\n",
       "Americas       51\n",
       "Oceania        27\n",
       "Europe,Asia     1\n",
       "Asia,Europe     1\n",
       "Name: Region, dtype: int64"
      ]
     },
     "execution_count": 27,
     "metadata": {},
     "output_type": "execute_result"
    }
   ],
   "source": [
    "df.Region.value_counts().sort_values(ascending=False)"
   ]
  },
  {
   "cell_type": "markdown",
   "id": "5ff7ccea-176f-481e-9817-254630d9657f",
   "metadata": {},
   "source": [
    "\n",
    "\n",
    "\n",
    "Grafische Darstellung der Regionalzahlen. \n",
    "\n",
    "figure(), soll ein figure-Objekt erstellen.\n",
    "\n",
    "countplot() wird verwendet, um die Anzahl der Beobachtungen in jeder Kategorie mit Balken anzuzeigen.\n",
    "\n",
    "xlabel() und ylabel(), hier geben wir die Höhe und die Breite von dem Diagramm an.  \n",
    "\n",
    "Die add_patch(P) Methode des Axes Objekts fügt einen Patch - p zur Axis hinzu."
   ]
  },
  {
   "cell_type": "code",
   "execution_count": 86,
   "id": "a4aa63e7-9f22-4d96-9e3a-138ffae62e1a",
   "metadata": {},
   "outputs": [
    {
     "data": {
      "image/png": "[encoded data removed]",
      "text/plain": [
       "<Figure size 1080x360 with 1 Axes>"
      ]
     },
     "metadata": {
      "needs_background": "light"
     },
     "output_type": "display_data"
    }
   ],
   "source": [
    "plt.figure(figsize=(15,5))\n",
    "ax = sns.countplot(x=\"Region\", data = df, order = df[\"Region\"].value_counts().index)\n",
    "plt.xlabel(\"Count\",fontsize=(20))\n",
    "plt.ylabel(\"Region\",fontsize=(20));\n",
    "\n",
    "for p in ax.patches:\n",
    "    ax.annotate(f'\\n{p.get_height()}', (p.get_x()+0.4, p.get_height()), ha='center', va='bottom', color='black', size=12)\n",
    "plt.show()"
   ]
  },
  {
   "cell_type": "markdown",
   "id": "df6c015e-2d2d-4a64-bb42-c57e7ce3f0e5",
   "metadata": {},
   "source": [
    "hier lasse ich die Länder aufsteigend nach ihrer Population ausgeben.\n",
    "Die tail()-Funktion wird verwendet, um die letzten n (hier 10) Zeilen zurückzugeben. Diese Funktion gibt die letzten n Zeilen des Objekts basierend auf der Position zurück."
   ]
  },
  {
   "cell_type": "code",
   "execution_count": 69,
   "id": "4089efd9-8249-431b-96b5-3562154abc95",
   "metadata": {},
   "outputs": [],
   "source": [
    "per_country = df.sort_values(\"Population\",ascending=True)\n",
    "nw_per_country=per_country.tail(10)\n"
   ]
  },
  {
   "cell_type": "code",
   "execution_count": 70,
   "id": "26a945bc-84ac-4244-8743-b656153528ce",
   "metadata": {},
   "outputs": [
    {
     "data": {
      "text/html": [
       "<div>\n",
       "<style scoped>\n",
       "    .dataframe tbody tr th:only-of-type {\n",
       "        vertical-align: middle;\n",
       "    }\n",
       "\n",
       "    .dataframe tbody tr th {\n",
       "        vertical-align: top;\n",
       "    }\n",
       "\n",
       "    .dataframe thead th {\n",
       "        text-align: right;\n",
       "    }\n",
       "</style>\n",
       "<table border=\"1\" class=\"dataframe\">\n",
       "  <thead>\n",
       "    <tr style=\"text-align: right;\">\n",
       "      <th></th>\n",
       "      <th>Rank</th>\n",
       "      <th>Country</th>\n",
       "      <th>Region</th>\n",
       "      <th>Population</th>\n",
       "      <th>Percentage</th>\n",
       "      <th>Date</th>\n",
       "    </tr>\n",
       "  </thead>\n",
       "  <tbody>\n",
       "    <tr>\n",
       "      <th>9</th>\n",
       "      <td>10</td>\n",
       "      <td>Mexico</td>\n",
       "      <td>Americas</td>\n",
       "      <td>126014024</td>\n",
       "      <td>1.59%</td>\n",
       "      <td>20-Mar</td>\n",
       "    </tr>\n",
       "    <tr>\n",
       "      <th>8</th>\n",
       "      <td>9</td>\n",
       "      <td>Russia</td>\n",
       "      <td>Europe,Asia</td>\n",
       "      <td>146171015</td>\n",
       "      <td>1.85%</td>\n",
       "      <td>21-Jan</td>\n",
       "    </tr>\n",
       "    <tr>\n",
       "      <th>7</th>\n",
       "      <td>8</td>\n",
       "      <td>Bangladesh</td>\n",
       "      <td>Asia</td>\n",
       "      <td>171950056</td>\n",
       "      <td>2.17%</td>\n",
       "      <td>21-Dec</td>\n",
       "    </tr>\n",
       "    <tr>\n",
       "      <th>6</th>\n",
       "      <td>7</td>\n",
       "      <td>Nigeria</td>\n",
       "      <td>Africa</td>\n",
       "      <td>211401000</td>\n",
       "      <td>2.67%</td>\n",
       "      <td>21-Jul</td>\n",
       "    </tr>\n",
       "    <tr>\n",
       "      <th>5</th>\n",
       "      <td>6</td>\n",
       "      <td>Brazil</td>\n",
       "      <td>Americas</td>\n",
       "      <td>214143381</td>\n",
       "      <td>2.70%</td>\n",
       "      <td>21-Dec</td>\n",
       "    </tr>\n",
       "    <tr>\n",
       "      <th>4</th>\n",
       "      <td>5</td>\n",
       "      <td>Pakistan</td>\n",
       "      <td>Asia</td>\n",
       "      <td>225200000</td>\n",
       "      <td>2.84%</td>\n",
       "      <td>21-Jul</td>\n",
       "    </tr>\n",
       "    <tr>\n",
       "      <th>3</th>\n",
       "      <td>4</td>\n",
       "      <td>Indonesia</td>\n",
       "      <td>Asia</td>\n",
       "      <td>271350000</td>\n",
       "      <td>3.43%</td>\n",
       "      <td>20-Dec</td>\n",
       "    </tr>\n",
       "    <tr>\n",
       "      <th>2</th>\n",
       "      <td>3</td>\n",
       "      <td>United States</td>\n",
       "      <td>Americas</td>\n",
       "      <td>332960297</td>\n",
       "      <td>4.20%</td>\n",
       "      <td>21-Dec</td>\n",
       "    </tr>\n",
       "    <tr>\n",
       "      <th>1</th>\n",
       "      <td>2</td>\n",
       "      <td>India</td>\n",
       "      <td>Asia</td>\n",
       "      <td>1386141732</td>\n",
       "      <td>17.50%</td>\n",
       "      <td>21-Dec</td>\n",
       "    </tr>\n",
       "    <tr>\n",
       "      <th>0</th>\n",
       "      <td>1</td>\n",
       "      <td>China</td>\n",
       "      <td>Asia</td>\n",
       "      <td>1411778724</td>\n",
       "      <td>17.80%</td>\n",
       "      <td>20-Nov</td>\n",
       "    </tr>\n",
       "  </tbody>\n",
       "</table>\n",
       "</div>"
      ],
      "text/plain": [
       "   Rank        Country       Region  Population Percentage    Date\n",
       "9    10         Mexico     Americas   126014024      1.59%  20-Mar\n",
       "8     9         Russia  Europe,Asia   146171015      1.85%  21-Jan\n",
       "7     8     Bangladesh         Asia   171950056      2.17%  21-Dec\n",
       "6     7        Nigeria       Africa   211401000      2.67%  21-Jul\n",
       "5     6         Brazil     Americas   214143381      2.70%  21-Dec\n",
       "4     5       Pakistan         Asia   225200000      2.84%  21-Jul\n",
       "3     4      Indonesia         Asia   271350000      3.43%  20-Dec\n",
       "2     3  United States     Americas   332960297      4.20%  21-Dec\n",
       "1     2          India         Asia  1386141732     17.50%  21-Dec\n",
       "0     1          China         Asia  1411778724     17.80%  20-Nov"
      ]
     },
     "execution_count": 70,
     "metadata": {},
     "output_type": "execute_result"
    }
   ],
   "source": [
    "nw_per_country"
   ]
  },
  {
   "cell_type": "markdown",
   "id": "4740b1f1-1b4a-40f0-b557-7da54c38fc67",
   "metadata": {},
   "source": [
    "Das gleiche mache ich diesmal mit der Anforderung, dass es\n",
    "die ersten 15 Ländernamen absteigend ausgibt, indem ich \n",
    "in df.sort_values() die \"Population\" in \"Country\", ascending von \"True\" auf \"False\" und in tail(10)statt 10 auf 15 ändere."
   ]
  },
  {
   "cell_type": "code",
   "execution_count": 87,
   "id": "20d59091-59d2-458f-a0ea-52e3c6d66395",
   "metadata": {},
   "outputs": [],
   "source": [
    "per_country = df.sort_values(\"Country\",ascending=False)\n",
    "nw_per_country=per_country.tail(15)"
   ]
  },
  {
   "cell_type": "code",
   "execution_count": 88,
   "id": "a5b94785-ea6b-4527-b47f-24e1c2be8ddf",
   "metadata": {},
   "outputs": [
    {
     "data": {
      "text/html": [
       "<div>\n",
       "<style scoped>\n",
       "    .dataframe tbody tr th:only-of-type {\n",
       "        vertical-align: middle;\n",
       "    }\n",
       "\n",
       "    .dataframe tbody tr th {\n",
       "        vertical-align: top;\n",
       "    }\n",
       "\n",
       "    .dataframe thead th {\n",
       "        text-align: right;\n",
       "    }\n",
       "</style>\n",
       "<table border=\"1\" class=\"dataframe\">\n",
       "  <thead>\n",
       "    <tr style=\"text-align: right;\">\n",
       "      <th></th>\n",
       "      <th>Rank</th>\n",
       "      <th>Country</th>\n",
       "      <th>Region</th>\n",
       "      <th>Population</th>\n",
       "      <th>Percentage</th>\n",
       "      <th>Date</th>\n",
       "    </tr>\n",
       "  </thead>\n",
       "  <tbody>\n",
       "    <tr>\n",
       "      <th>90</th>\n",
       "      <td>91</td>\n",
       "      <td>Azerbaijan</td>\n",
       "      <td>Asia</td>\n",
       "      <td>10139196</td>\n",
       "      <td>0.13%</td>\n",
       "      <td>21-Jul</td>\n",
       "    </tr>\n",
       "    <tr>\n",
       "      <th>98</th>\n",
       "      <td>99</td>\n",
       "      <td>Austria</td>\n",
       "      <td>Europe</td>\n",
       "      <td>8976467</td>\n",
       "      <td>0.11%</td>\n",
       "      <td>21-Oct</td>\n",
       "    </tr>\n",
       "    <tr>\n",
       "      <th>52</th>\n",
       "      <td>53</td>\n",
       "      <td>Australia</td>\n",
       "      <td>Oceania</td>\n",
       "      <td>25922849</td>\n",
       "      <td>0.33%</td>\n",
       "      <td>21-Dec</td>\n",
       "    </tr>\n",
       "    <tr>\n",
       "      <th>193</th>\n",
       "      <td>194</td>\n",
       "      <td>Aruba(Netherlands)</td>\n",
       "      <td>Americas</td>\n",
       "      <td>111050</td>\n",
       "      <td>0.00%</td>\n",
       "      <td>20-Dec</td>\n",
       "    </tr>\n",
       "    <tr>\n",
       "      <th>136</th>\n",
       "      <td>137</td>\n",
       "      <td>Armenia</td>\n",
       "      <td>Asia</td>\n",
       "      <td>2963900</td>\n",
       "      <td>0.04%</td>\n",
       "      <td>21-Mar</td>\n",
       "    </tr>\n",
       "    <tr>\n",
       "      <th>30</th>\n",
       "      <td>31</td>\n",
       "      <td>Argentina</td>\n",
       "      <td>Americas</td>\n",
       "      <td>45808747</td>\n",
       "      <td>0.58%</td>\n",
       "      <td>21-Jul</td>\n",
       "    </tr>\n",
       "    <tr>\n",
       "      <th>199</th>\n",
       "      <td>200</td>\n",
       "      <td>AntiguaandBarbuda</td>\n",
       "      <td>Americas</td>\n",
       "      <td>99337</td>\n",
       "      <td>0.00%</td>\n",
       "      <td>21-Jul</td>\n",
       "    </tr>\n",
       "    <tr>\n",
       "      <th>225</th>\n",
       "      <td>226</td>\n",
       "      <td>Anguilla(United Kingdom)</td>\n",
       "      <td>Americas</td>\n",
       "      <td>15000</td>\n",
       "      <td>0.00%</td>\n",
       "      <td>21-Jul</td>\n",
       "    </tr>\n",
       "    <tr>\n",
       "      <th>44</th>\n",
       "      <td>45</td>\n",
       "      <td>Angola</td>\n",
       "      <td>Africa</td>\n",
       "      <td>32097671</td>\n",
       "      <td>0.41%</td>\n",
       "      <td>21-Jun</td>\n",
       "    </tr>\n",
       "    <tr>\n",
       "      <th>202</th>\n",
       "      <td>203</td>\n",
       "      <td>Andorra</td>\n",
       "      <td>Europe</td>\n",
       "      <td>78015</td>\n",
       "      <td>0.00%</td>\n",
       "      <td>20-Dec</td>\n",
       "    </tr>\n",
       "    <tr>\n",
       "      <th>207</th>\n",
       "      <td>208</td>\n",
       "      <td>AmericanSamoa(United States)</td>\n",
       "      <td>Oceania</td>\n",
       "      <td>56951</td>\n",
       "      <td>0.00%</td>\n",
       "      <td>21-Jul</td>\n",
       "    </tr>\n",
       "    <tr>\n",
       "      <th>31</th>\n",
       "      <td>32</td>\n",
       "      <td>Algeria</td>\n",
       "      <td>Africa</td>\n",
       "      <td>44700000</td>\n",
       "      <td>0.56%</td>\n",
       "      <td>21-Jan</td>\n",
       "    </tr>\n",
       "    <tr>\n",
       "      <th>137</th>\n",
       "      <td>138</td>\n",
       "      <td>Albania</td>\n",
       "      <td>Europe</td>\n",
       "      <td>2829741</td>\n",
       "      <td>0.04%</td>\n",
       "      <td>21-Jan</td>\n",
       "    </tr>\n",
       "    <tr>\n",
       "      <th>42</th>\n",
       "      <td>43</td>\n",
       "      <td>Afghanistan</td>\n",
       "      <td>Asia</td>\n",
       "      <td>32890171</td>\n",
       "      <td>0.42%</td>\n",
       "      <td>20-Jul</td>\n",
       "    </tr>\n",
       "    <tr>\n",
       "      <th>184</th>\n",
       "      <td>185</td>\n",
       "      <td>Abkhazia</td>\n",
       "      <td>Asia</td>\n",
       "      <td>245424</td>\n",
       "      <td>0.00%</td>\n",
       "      <td>20-Jan</td>\n",
       "    </tr>\n",
       "  </tbody>\n",
       "</table>\n",
       "</div>"
      ],
      "text/plain": [
       "     Rank                       Country    Region  Population Percentage  \\\n",
       "90     91                    Azerbaijan      Asia    10139196      0.13%   \n",
       "98     99                       Austria    Europe     8976467      0.11%   \n",
       "52     53                     Australia   Oceania    25922849      0.33%   \n",
       "193   194            Aruba(Netherlands)  Americas      111050      0.00%   \n",
       "136   137                       Armenia      Asia     2963900      0.04%   \n",
       "30     31                     Argentina  Americas    45808747      0.58%   \n",
       "199   200             AntiguaandBarbuda  Americas       99337      0.00%   \n",
       "225   226      Anguilla(United Kingdom)  Americas       15000      0.00%   \n",
       "44     45                        Angola    Africa    32097671      0.41%   \n",
       "202   203                       Andorra    Europe       78015      0.00%   \n",
       "207   208  AmericanSamoa(United States)   Oceania       56951      0.00%   \n",
       "31     32                       Algeria    Africa    44700000      0.56%   \n",
       "137   138                       Albania    Europe     2829741      0.04%   \n",
       "42     43                   Afghanistan      Asia    32890171      0.42%   \n",
       "184   185                      Abkhazia      Asia      245424      0.00%   \n",
       "\n",
       "       Date  \n",
       "90   21-Jul  \n",
       "98   21-Oct  \n",
       "52   21-Dec  \n",
       "193  20-Dec  \n",
       "136  21-Mar  \n",
       "30   21-Jul  \n",
       "199  21-Jul  \n",
       "225  21-Jul  \n",
       "44   21-Jun  \n",
       "202  20-Dec  \n",
       "207  21-Jul  \n",
       "31   21-Jan  \n",
       "137  21-Jan  \n",
       "42   20-Jul  \n",
       "184  20-Jan  "
      ]
     },
     "execution_count": 88,
     "metadata": {},
     "output_type": "execute_result"
    }
   ],
   "source": [
    "nw_per_country"
   ]
  },
  {
   "cell_type": "markdown",
   "id": "e4cc2d0d-fa60-4018-8ba6-06a4595bb4be",
   "metadata": {},
   "source": [
    "Streudiagramm, um die einzelnen Länderprozentsätze anzuzeigen.\n",
    "\n",
    "Die figure()-Funktion im pyplot-Modul der Matplotlib-Bibliothek wird verwendet, \n",
    "um eine neue Figur zu erstellen.\n",
    "\n",
    "Die Methode scatterplot() wird hier verwendet, um ein Streudiagramm zu zeichnen.\n",
    "\n",
    "Mit der Methode title() gebe ich die Überschrift des Steudiagramms an und mit fontsize() die größe des Texts.\n"
   ]
  },
  {
   "cell_type": "code",
   "execution_count": 83,
   "id": "3cf55915-e8d5-42c1-b7ad-8cafa3e1cdac",
   "metadata": {},
   "outputs": [
    {
     "data": {
      "text/plain": [
       "Text(0, 0.5, 'Percentage')"
      ]
     },
     "execution_count": 83,
     "metadata": {},
     "output_type": "execute_result"
    },
    {
     "data": {
      "image/png": "[encoded data removed]",
      "text/plain": [
       "<Figure size 1080x360 with 1 Axes>"
      ]
     },
     "metadata": {
      "needs_background": "light"
     },
     "output_type": "display_data"
    }
   ],
   "source": [
    "plt.figure(figsize=(15,5))\n",
    "sns.scatterplot(x= nw_per_country[\"Country\"],y =nw_per_country[\"Percentage\"])\n",
    "plt.title(\"Percentage of each country\",fontsize=(20))\n",
    "plt.xlabel(\"Country\",fontsize=(20))\n",
    "plt.ylabel(\"Percentage\",fontsize=(20))"
   ]
  }
 ],
 "metadata": {
  "kernelspec": {
   "display_name": "Python 3 (ipykernel)",
   "language": "python",
   "name": "python3"
  },
  "language_info": {
   "codemirror_mode": {
    "name": "ipython",
    "version": 3
   },
   "file_extension": ".py",
   "mimetype": "text/x-python",
   "name": "python",
   "nbconvert_exporter": "python",
   "pygments_lexer": "ipython3",
   "version": "3.9.7"
  }
 },
 "nbformat": 4,
 "nbformat_minor": 5
}
