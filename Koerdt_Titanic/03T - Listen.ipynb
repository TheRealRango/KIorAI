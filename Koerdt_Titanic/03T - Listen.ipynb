{
 "cells": [
  {
   "cell_type": "markdown",
   "metadata": {},
   "source": [
    "# Listen, Tupel, List Comprehensions"
   ]
  },
  {
   "cell_type": "markdown",
   "metadata": {},
   "source": [
    "## Listen\n",
    "In Python ist die **Liste** eine der wichtigsten und meistverwendeten Datenstrukturen. Wegen der Verwendung eckiger Klammern erinnert sie an Java-Arrays, entspricht in der Implementierung aber eher Javas `ArrayList`: Listen können beliebig wachsen und schrumpfen, sind aber so implementiert, dass sie trotzdem die hervorragenden Laufzeiteigenschaften von Arrays haben. "
   ]
  },
  {
   "cell_type": "code",
   "execution_count": 1,
   "metadata": {},
   "outputs": [],
   "source": [
    "zahlenliste = [2, 3, 5, 7, 11, 13]\n",
    "namensliste = [\"Anna\", \"Berta\", \"Carla\", \"Doris\", \"Emilia\", \"Franziska\", \"Gabi\", \"Hannah\", \"Iris\"]\n",
    "gemischte_liste = [\"Harry\", 12, \"Albus\", 115, \"Nicolas\", 665]\n",
    "verschachtelte_liste = [[\"Dudley\", 13, [\"Privet Drive\", 4]], [\"Albus\", 115, [\"Hogwarts\"]]]"
   ]
  },
  {
   "cell_type": "code",
   "execution_count": 2,
   "metadata": {},
   "outputs": [
    {
     "data": {
      "text/plain": [
       "2"
      ]
     },
     "execution_count": 2,
     "metadata": {},
     "output_type": "execute_result"
    }
   ],
   "source": [
    "zahlenliste[0]"
   ]
  },
  {
   "cell_type": "code",
   "execution_count": 8,
   "metadata": {},
   "outputs": [
    {
     "ename": "NameError",
     "evalue": "name 'zahlenliste' is not defined",
     "output_type": "error",
     "traceback": [
      "\u001b[1;31m---------------------------------------------------------------------------\u001b[0m",
      "\u001b[1;31mNameError\u001b[0m                                 Traceback (most recent call last)",
      "\u001b[1;32m<ipython-input-8-d22bf71b7e7c>\u001b[0m in \u001b[0;36m<module>\u001b[1;34m\u001b[0m\n\u001b[1;32m----> 1\u001b[1;33m \u001b[0mzahlenliste\u001b[0m\u001b[1;33m[\u001b[0m\u001b[1;36m0\u001b[0m\u001b[1;33m]\u001b[0m \u001b[1;33m=\u001b[0m \u001b[1;36m42\u001b[0m\u001b[1;33m\u001b[0m\u001b[1;33m\u001b[0m\u001b[0m\n\u001b[0m\u001b[0;32m      2\u001b[0m \u001b[0mzahlenliste\u001b[0m\u001b[1;33m\u001b[0m\u001b[1;33m\u001b[0m\u001b[0m\n\u001b[0;32m      3\u001b[0m \u001b[1;32mimport\u001b[0m \u001b[0mstatistics\u001b[0m\u001b[1;33m\u001b[0m\u001b[1;33m\u001b[0m\u001b[0m\n\u001b[0;32m      4\u001b[0m \u001b[1;33m\u001b[0m\u001b[0m\n\u001b[0;32m      5\u001b[0m \u001b[0mlist\u001b[0m \u001b[1;33m=\u001b[0m  \u001b[1;33m[\u001b[0m\u001b[1;36m1\u001b[0m\u001b[1;33m,\u001b[0m \u001b[1;36m2\u001b[0m\u001b[1;33m,\u001b[0m \u001b[1;36m3\u001b[0m\u001b[1;33m,\u001b[0m \u001b[1;36m4\u001b[0m\u001b[1;33m,\u001b[0m \u001b[1;36m5\u001b[0m\u001b[1;33m,\u001b[0m \u001b[1;36m6\u001b[0m\u001b[1;33m]\u001b[0m\u001b[1;33m\u001b[0m\u001b[1;33m\u001b[0m\u001b[0m\n",
      "\u001b[1;31mNameError\u001b[0m: name 'zahlenliste' is not defined"
     ]
    }
   ],
   "source": [
    "zahlenliste[0] = 42\n",
    "zahlenliste\n"
   ]
  },
  {
   "cell_type": "code",
   "execution_count": 4,
   "metadata": {},
   "outputs": [
    {
     "data": {
      "text/plain": [
       "'Doris'"
      ]
     },
     "execution_count": 4,
     "metadata": {},
     "output_type": "execute_result"
    }
   ],
   "source": [
    "namensliste[3]"
   ]
  },
  {
   "cell_type": "code",
   "execution_count": 5,
   "metadata": {},
   "outputs": [
    {
     "data": {
      "text/plain": [
       "9"
      ]
     },
     "execution_count": 5,
     "metadata": {},
     "output_type": "execute_result"
    }
   ],
   "source": [
    "len(namensliste)"
   ]
  },
  {
   "cell_type": "code",
   "execution_count": 6,
   "metadata": {},
   "outputs": [
    {
     "data": {
      "text/plain": [
       "['Anna',\n",
       " 'Berta',\n",
       " 'Carla',\n",
       " 'Doris',\n",
       " 'Emilia',\n",
       " 'Franziska',\n",
       " 'Gabi',\n",
       " 'Hannah',\n",
       " 'Iris',\n",
       " 'Johanna',\n",
       " 'Klara',\n",
       " 'Lilli']"
      ]
     },
     "execution_count": 6,
     "metadata": {},
     "output_type": "execute_result"
    }
   ],
   "source": [
    "namensliste.append(\"Johanna\")   # ein neues Element anfügen\n",
    "namensliste.extend([\"Klara\", \"Lilli\"])   # eine andere Liste anhängen\n",
    "namensliste"
   ]
  },
  {
   "cell_type": "code",
   "execution_count": 5,
   "metadata": {},
   "outputs": [
    {
     "ename": "NameError",
     "evalue": "name 'namensliste' is not defined",
     "output_type": "error",
     "traceback": [
      "\u001b[1;31m---------------------------------------------------------------------------\u001b[0m",
      "\u001b[1;31mNameError\u001b[0m                                 Traceback (most recent call last)",
      "\u001b[1;32m<ipython-input-5-0a3c9ca6754d>\u001b[0m in \u001b[0;36m<module>\u001b[1;34m\u001b[0m\n\u001b[1;32m----> 1\u001b[1;33m \u001b[0mnamensliste\u001b[0m\u001b[1;33m.\u001b[0m\u001b[0mappend\u001b[0m\u001b[1;33m(\u001b[0m\u001b[1;34m\"Gina\"\u001b[0m\u001b[1;33m)\u001b[0m   \u001b[1;31m# Oh, jetzt haben wir ja zwei Namen mit \"G\" - also entfernen wir einen wieder!\u001b[0m\u001b[1;33m\u001b[0m\u001b[1;33m\u001b[0m\u001b[0m\n\u001b[0m\u001b[0;32m      2\u001b[0m \u001b[0mnamensliste\u001b[0m\u001b[1;33m.\u001b[0m\u001b[0mremove\u001b[0m\u001b[1;33m(\u001b[0m\u001b[1;34m\"Gabi\"\u001b[0m\u001b[1;33m)\u001b[0m   \u001b[1;31m# aber die alphabetische Reihenfolge ist dahin... Was tun?\u001b[0m\u001b[1;33m\u001b[0m\u001b[1;33m\u001b[0m\u001b[0m\n\u001b[0;32m      3\u001b[0m \u001b[0mnamensliste\u001b[0m\u001b[1;33m.\u001b[0m\u001b[0msort\u001b[0m\u001b[1;33m(\u001b[0m\u001b[1;33m)\u001b[0m           \u001b[1;31m# ...und fertig sortiert!\u001b[0m\u001b[1;33m\u001b[0m\u001b[1;33m\u001b[0m\u001b[0m\n\u001b[0;32m      4\u001b[0m \u001b[0mnamensliste\u001b[0m\u001b[1;33m\u001b[0m\u001b[1;33m\u001b[0m\u001b[0m\n\u001b[0;32m      5\u001b[0m \u001b[1;33m\u001b[0m\u001b[0m\n",
      "\u001b[1;31mNameError\u001b[0m: name 'namensliste' is not defined"
     ]
    }
   ],
   "source": [
    "namensliste.append(\"Gina\")   # Oh, jetzt haben wir ja zwei Namen mit \"G\" - also entfernen wir einen wieder!\n",
    "namensliste.remove(\"Gabi\")   # aber die alphabetische Reihenfolge ist dahin... Was tun?\n",
    "namensliste.sort()           # ...und fertig sortiert!\n",
    "namensliste\n"
   ]
  },
  {
   "cell_type": "code",
   "execution_count": 3,
   "metadata": {},
   "outputs": [
    {
     "ename": "NameError",
     "evalue": "name 'namensliste' is not defined",
     "output_type": "error",
     "traceback": [
      "\u001b[1;31m---------------------------------------------------------------------------\u001b[0m",
      "\u001b[1;31mNameError\u001b[0m                                 Traceback (most recent call last)",
      "\u001b[1;32m<ipython-input-3-a2054cf0eebc>\u001b[0m in \u001b[0;36m<module>\u001b[1;34m\u001b[0m\n\u001b[1;32m----> 1\u001b[1;33m \u001b[0mnamensliste\u001b[0m\u001b[1;33m[\u001b[0m\u001b[1;36m0\u001b[0m\u001b[1;33m:\u001b[0m\u001b[1;36m7\u001b[0m\u001b[1;33m:\u001b[0m\u001b[1;36m2\u001b[0m\u001b[1;33m]\u001b[0m\u001b[1;33m\u001b[0m\u001b[1;33m\u001b[0m\u001b[0m\n\u001b[0m",
      "\u001b[1;31mNameError\u001b[0m: name 'namensliste' is not defined"
     ]
    }
   ],
   "source": [
    "namensliste[0:7:2]\n"
   ]
  },
  {
   "cell_type": "code",
   "execution_count": 2,
   "metadata": {},
   "outputs": [
    {
     "ename": "NameError",
     "evalue": "name 'namensliste' is not defined",
     "output_type": "error",
     "traceback": [
      "\u001b[1;31m---------------------------------------------------------------------------\u001b[0m",
      "\u001b[1;31mNameError\u001b[0m                                 Traceback (most recent call last)",
      "\u001b[1;32m<ipython-input-2-a2054cf0eebc>\u001b[0m in \u001b[0;36m<module>\u001b[1;34m\u001b[0m\n\u001b[1;32m----> 1\u001b[1;33m \u001b[0mnamensliste\u001b[0m\u001b[1;33m[\u001b[0m\u001b[1;36m0\u001b[0m\u001b[1;33m:\u001b[0m\u001b[1;36m7\u001b[0m\u001b[1;33m:\u001b[0m\u001b[1;36m2\u001b[0m\u001b[1;33m]\u001b[0m\u001b[1;33m\u001b[0m\u001b[1;33m\u001b[0m\u001b[0m\n\u001b[0m",
      "\u001b[1;31mNameError\u001b[0m: name 'namensliste' is not defined"
     ]
    }
   ],
   "source": []
  },
  {
   "cell_type": "code",
   "execution_count": 8,
   "metadata": {},
   "outputs": [
    {
     "data": {
      "text/plain": [
       "'Lilli'"
      ]
     },
     "execution_count": 8,
     "metadata": {},
     "output_type": "execute_result"
    }
   ],
   "source": [
    "# Wie kommt man an das letzte Element? In den meisten anderen Sprachen müsste man schreiben:\n",
    "# namensliste[len(namensliste)-1]  \n",
    "# In Python geht das viel einfacher:\n",
    "namensliste[-1]  "
   ]
  },
  {
   "cell_type": "code",
   "execution_count": 9,
   "metadata": {},
   "outputs": [
    {
     "data": {
      "text/plain": [
       "['Berta', 'Carla']"
      ]
     },
     "execution_count": 9,
     "metadata": {},
     "output_type": "execute_result"
    }
   ],
   "source": [
    "namensliste[1:3]   # Slicing: liefert einen \"Ausschnitt\" (Teilliste).  [Start(inkl):Ende(exkl):Schrittweite]  "
   ]
  },
  {
   "cell_type": "code",
   "execution_count": 10,
   "metadata": {},
   "outputs": [
    {
     "data": {
      "text/plain": [
       "['Anna', 'Carla', 'Emilia', 'Gina']"
      ]
     },
     "execution_count": 10,
     "metadata": {},
     "output_type": "execute_result"
    }
   ],
   "source": [
    "namensliste[0:7:2]  # Schrittweite 2, d.h. nur Element 0, 2, 4, 6"
   ]
  },
  {
   "cell_type": "code",
   "execution_count": 11,
   "metadata": {},
   "outputs": [
    {
     "data": {
      "text/plain": [
       "['Anna', 'Carla', 'Emilia', 'Gina', 'Iris', 'Klara']"
      ]
     },
     "execution_count": 11,
     "metadata": {},
     "output_type": "execute_result"
    }
   ],
   "source": [
    "namensliste[::2]  # Start- und Endindex fehlen, nur Schrittweite 2 wird angegeben"
   ]
  },
  {
   "cell_type": "code",
   "execution_count": 12,
   "metadata": {},
   "outputs": [
    {
     "data": {
      "text/plain": [
       "['Johanna',\n",
       " 'Iris',\n",
       " 'Hannah',\n",
       " 'Gina',\n",
       " 'Franziska',\n",
       " 'Emilia',\n",
       " 'Doris',\n",
       " 'Carla',\n",
       " 'Berta',\n",
       " 'Anna']"
      ]
     },
     "execution_count": 12,
     "metadata": {},
     "output_type": "execute_result"
    }
   ],
   "source": [
    "namensliste[-3::-1]   # vom drittletzten Element rückwärts (Schrittweite -1)"
   ]
  },
  {
   "cell_type": "markdown",
   "metadata": {},
   "source": [
    "Listen können u.a. selbst auch Listen enthalten:"
   ]
  },
  {
   "cell_type": "code",
   "execution_count": 13,
   "metadata": {},
   "outputs": [
    {
     "data": {
      "text/plain": [
       "5"
      ]
     },
     "execution_count": 13,
     "metadata": {},
     "output_type": "execute_result"
    }
   ],
   "source": [
    "verschachtelt = [[0, 1], [2, 3], [4, 5], [6, 7]]\n",
    "verschachtelt[2][1]"
   ]
  },
  {
   "cell_type": "code",
   "execution_count": 23,
   "metadata": {},
   "outputs": [],
   "source": [
    "# Bsp. für einen Baumstruktur mit Listen:\n",
    "\n",
    "baum = [\"Oma\", [\"Tochter 1\", [\"Enkelin 1\", \"Enkelin 2\"], \"Tochter 2\", [\"Enkelin 3\", [\"Urenkelin 1\"]]]]\n",
    "\n",
    "# oft ist es allerdings noch geschickter, für solche Strukturen ein *dictionary* zu verwenden (s. dort)."
   ]
  },
  {
   "cell_type": "markdown",
   "metadata": {},
   "source": [
    "## Tupel\n",
    "Auch **Tupel** werden in Python häufig verwendet. Intuition: Ein Tupel repräsentiert einem  **Datensatz** mit *fester* Länge mit Werten potentiell unterschiedlicher Datentypen.\n",
    "\n",
    "Bsp. `produkt = (\"Tesla\", \"Model X\", 100000)`\n",
    "\n",
    "Tupel ähneln Listen; die meisten üblichen Listenoperationen sind auch mit Tupeln möglich. Sie werden aber mit *runden* statt mit eckigen Klammern geschrieben.\n",
    "\n",
    "Wichtige Eigenschaften von Tupeln:\n",
    "* unveränderlich (immutable)\n",
    "* insb. kann auch kein Wert hinzugefügt oder gelöscht werden\n",
    "* unterschiedliche Datentypen möglich"
   ]
  },
  {
   "cell_type": "code",
   "execution_count": 26,
   "metadata": {},
   "outputs": [],
   "source": [
    "person1 = (\"Harry\", \"Potter\", 11)\n",
    "person2 = (\"Hermione\", \"Granger\", 11)\n",
    "person3 = (\"Nicolas\", \"Flamel\", 690)"
   ]
  },
  {
   "cell_type": "code",
   "execution_count": 27,
   "metadata": {},
   "outputs": [
    {
     "data": {
      "text/plain": [
       "'Harry'"
      ]
     },
     "execution_count": 27,
     "metadata": {},
     "output_type": "execute_result"
    }
   ],
   "source": [
    "person1[0]    # Zugriff auf Einzelwerte wie bei Liste/Array über Index.  Alternativ: namedtuple oder dataclass (ab 3.7)"
   ]
  },
  {
   "cell_type": "code",
   "execution_count": 28,
   "metadata": {},
   "outputs": [
    {
     "data": {
      "text/plain": [
       "tuple"
      ]
     },
     "execution_count": 28,
     "metadata": {},
     "output_type": "execute_result"
    }
   ],
   "source": [
    "tup = 1, 2, 3   # Klammern können auch weggelassen werden\n",
    "type(tup)"
   ]
  },
  {
   "cell_type": "code",
   "execution_count": 29,
   "metadata": {},
   "outputs": [
    {
     "name": "stdout",
     "output_type": "stream",
     "text": [
      "Harry 11\n"
     ]
    }
   ],
   "source": [
    "vorname, nachname, alter = person1   # Destrukturierung: Das Tupel wird in seine Einzelteile zerlegt und verschiedenen Variablen zugewiesen\n",
    "print(vorname, alter)"
   ]
  },
  {
   "cell_type": "code",
   "execution_count": 30,
   "metadata": {},
   "outputs": [
    {
     "name": "stdout",
     "output_type": "stream",
     "text": [
      "2 1\n"
     ]
    }
   ],
   "source": [
    "a = 1\n",
    "b = 2\n",
    "a, b = b, a   # Schau mal, Mama - ohne Hilfsvariable!!! Der Trick: Eigentlich steht da folgendes:\n",
    "(a, b) = (b, a)   # Ein neues Tupel wird aus den Elementen eines anderen Tupels erzeugt\n",
    "print(a, b)"
   ]
  },
  {
   "cell_type": "code",
   "execution_count": 31,
   "metadata": {},
   "outputs": [
    {
     "name": "stdout",
     "output_type": "stream",
     "text": [
      "Harry\n",
      "Potter\n",
      "11\n"
     ]
    }
   ],
   "source": [
    "for wert in person1:   # Schleife über die Elemente des Tupels\n",
    "    print(wert)"
   ]
  },
  {
   "cell_type": "code",
   "execution_count": 32,
   "metadata": {},
   "outputs": [
    {
     "name": "stdout",
     "output_type": "stream",
     "text": [
      "Harry\n",
      "Potter\n",
      "11\n",
      "Hermione\n",
      "Granger\n",
      "11\n",
      "Nicolas\n",
      "Flamel\n",
      "690\n"
     ]
    }
   ],
   "source": [
    "personen = [person1, person2, person3]     # Liste von Tupeln\n",
    "for person in personen:\n",
    "    for wert in person:\n",
    "        print(wert)"
   ]
  },
  {
   "cell_type": "markdown",
   "metadata": {},
   "source": [
    "### List comprehension (unüblicher deutscher Name: Listenabstraktion)\n",
    "Eine der wesentlichen Aufgaben des Computers ist die \"Datenverarbeitung\": Datenmengen werden untersucht, ausgewählt, bearbeitet und wieder zurückgeliefert. In den meisten Programmiersprachen wird dazu meist mit einer Schleife über eine Liste/Array iteriert, mit if-Befehlen eine Auswahl getroffen und (evtl. veränderte) Daten in einer neuen Liste gespeichert. Oft ist der Zweck dieses mehrstufigen Verfahrens, z.B. im Vergleich zu einer SQL-Abfrage, nur schwer zu erkennen.\n",
    "\n",
    "Python bietet mit *list comprehensions* eine kompakte Darstellung solcher Auswahl- und Transformationsprozesse. Sie ist an die mathematische Mengenschreibweise angelegt. So beschreibt der Ausdruck $\\{ x^2 | 10 \\leq x < 20, x \\in \\mathbb{N} \\}$ die Menge der Quadratzahlen aller natürlichen Zahlen zwischen 10 und 20. In Python schreibt man analog:"
   ]
  },
  {
   "cell_type": "code",
   "execution_count": 22,
   "metadata": {},
   "outputs": [
    {
     "data": {
      "text/plain": [
       "[100, 121, 144, 169, 196, 225, 256, 289, 324, 361]"
      ]
     },
     "execution_count": 22,
     "metadata": {},
     "output_type": "execute_result"
    }
   ],
   "source": [
    "quadrate = [x**2 for x in range(10, 20)]\n",
    "quadrate"
   ]
  },
  {
   "cell_type": "markdown",
   "metadata": {},
   "source": [
    "Die Listennotation mit [eckigen Klammern] wird also nicht nur verwendet, um Elemente explizit aufzuzählen, sondern auch um Listen aus anderen zu *berechnen* bzw. *auszuwählen*.\n",
    "\n",
    "Syntax: [Berechnung for Variable in Liste if Bedingung]"
   ]
  },
  {
   "cell_type": "markdown",
   "metadata": {},
   "source": [
    "Vergleiche die Lösungen der folgenden Aufgabe:\n",
    "\n",
    "Gib in GROSSBUCHSTABEN alle Namen aus einer Liste aus, die länger als vier Zeichen sind."
   ]
  },
  {
   "cell_type": "code",
   "execution_count": 21,
   "metadata": {},
   "outputs": [
    {
     "name": "stdout",
     "output_type": "stream",
     "text": [
      "['BERTA', 'CARLA', 'DORIS', 'EMILIA', 'FRANZISKA', 'HANNAH']\n",
      "['BERTA', 'CARLA', 'DORIS', 'EMILIA', 'FRANZISKA', 'HANNAH']\n"
     ]
    }
   ],
   "source": [
    "liste = [\"Anna\", \"Berta\", \"Carla\", \"Doris\", \"Emilia\", \"Franziska\", \"Gabi\", \"Hannah\", \"Iris\"]\n",
    "\n",
    "# mit Schleife:\n",
    "namen_neu = []\n",
    "for name in liste:\n",
    "    if len(name) > 4:\n",
    "        namen_neu.append(name.upper())\n",
    "print(namen_neu)\n",
    "\n",
    "# mit list comprehension:\n",
    "namen_neu = [name.upper() for name in liste if len(name) > 4]\n",
    "print(namen_neu)"
   ]
  }
 ],
 "metadata": {
  "kernelspec": {
   "display_name": "Python 3",
   "language": "python",
   "name": "python3"
  },
  "language_info": {
   "codemirror_mode": {
    "name": "ipython",
    "version": 3
   },
   "file_extension": ".py",
   "mimetype": "text/x-python",
   "name": "python",
   "nbconvert_exporter": "python",
   "pygments_lexer": "ipython3",
   "version": "3.8.8"
  }
 },
 "nbformat": 4,
 "nbformat_minor": 4
}
