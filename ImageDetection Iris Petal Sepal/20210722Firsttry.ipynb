{
 "cells": [
  {
   "cell_type": "code",
   "execution_count": 1,
   "id": "b732129a-b6b8-4922-9390-683b4892fc78",
   "metadata": {},
   "outputs": [
    {
     "name": "stdout",
     "output_type": "stream",
     "text": [
      "Hello World\n"
     ]
    }
   ],
   "source": [
    "print(\"Hello World\")"
   ]
  },
  {
   "cell_type": "code",
   "execution_count": 2,
   "id": "207dba2a-5dc0-4eac-b10e-1e96741dda11",
   "metadata": {},
   "outputs": [],
   "source": [
    "a=15"
   ]
  },
  {
   "cell_type": "code",
   "execution_count": 3,
   "id": "7b628803-91c0-40cf-a4ed-dd5462efa8cf",
   "metadata": {},
   "outputs": [
    {
     "name": "stdout",
     "output_type": "stream",
     "text": [
      "15\n"
     ]
    }
   ],
   "source": [
    "print(a)"
   ]
  },
  {
   "cell_type": "code",
   "execution_count": 4,
   "id": "cd46ea58-5045-4be6-ae5d-a8f0b4e16d52",
   "metadata": {},
   "outputs": [],
   "source": [
    "a=a*1.1"
   ]
  },
  {
   "cell_type": "code",
   "execution_count": 5,
   "id": "74ab5132-37b2-437b-9edb-129a171714aa",
   "metadata": {},
   "outputs": [
    {
     "name": "stdout",
     "output_type": "stream",
     "text": [
      "16.5\n"
     ]
    }
   ],
   "source": [
    "print(a)"
   ]
  },
  {
   "cell_type": "code",
   "execution_count": 6,
   "id": "b5b124da-1fef-4c1e-b9c0-e4b90415277d",
   "metadata": {},
   "outputs": [
    {
     "data": {
      "text/plain": [
       "float"
      ]
     },
     "execution_count": 6,
     "metadata": {},
     "output_type": "execute_result"
    }
   ],
   "source": [
    "type(a)"
   ]
  },
  {
   "cell_type": "code",
   "execution_count": 7,
   "id": "5f85c6a2-0143-4686-80ca-f832f547818a",
   "metadata": {},
   "outputs": [],
   "source": [
    "a *=1.1"
   ]
  },
  {
   "cell_type": "code",
   "execution_count": 8,
   "id": "5119da90-fd2b-46ba-bf73-b3c7aa075acb",
   "metadata": {},
   "outputs": [
    {
     "name": "stdout",
     "output_type": "stream",
     "text": [
      "18.150000000000002\n"
     ]
    }
   ],
   "source": [
    "print(a)"
   ]
  },
  {
   "cell_type": "code",
   "execution_count": 9,
   "id": "12a52b9b-9500-488d-8b68-6d938342709f",
   "metadata": {},
   "outputs": [
    {
     "data": {
      "text/plain": [
       "18.150000000000002"
      ]
     },
     "execution_count": 9,
     "metadata": {},
     "output_type": "execute_result"
    }
   ],
   "source": [
    "a\n"
   ]
  },
  {
   "cell_type": "code",
   "execution_count": 10,
   "id": "4e472d2d-60cb-46e9-9321-9ad903c2f019",
   "metadata": {},
   "outputs": [
    {
     "data": {
      "text/plain": [
       "9.075000000000001"
      ]
     },
     "execution_count": 10,
     "metadata": {},
     "output_type": "execute_result"
    }
   ],
   "source": [
    "d = a/2\n",
    "d"
   ]
  },
  {
   "cell_type": "code",
   "execution_count": 11,
   "id": "21ff4bc4-4ac5-422d-9ee2-851973dc9ca9",
   "metadata": {},
   "outputs": [],
   "source": [
    "txt = \"Verdammt!\""
   ]
  },
  {
   "cell_type": "code",
   "execution_count": 12,
   "id": "8b2ba077-e6a3-491c-8b9b-ee7bd14f7eff",
   "metadata": {},
   "outputs": [
    {
     "data": {
      "text/plain": [
       "'Verdammt!Verdammt!Verdammt!Verdammt!Verdammt!'"
      ]
     },
     "execution_count": 12,
     "metadata": {},
     "output_type": "execute_result"
    }
   ],
   "source": [
    "txt * 5"
   ]
  },
  {
   "cell_type": "code",
   "execution_count": 13,
   "id": "01b9ab5d-92e9-480b-947e-b7ff0ef0b190",
   "metadata": {},
   "outputs": [
    {
     "data": {
      "text/plain": [
       "'V'"
      ]
     },
     "execution_count": 13,
     "metadata": {},
     "output_type": "execute_result"
    }
   ],
   "source": [
    "txt[0]"
   ]
  },
  {
   "cell_type": "code",
   "execution_count": 14,
   "id": "bf403930-4e54-450e-a3e7-8ce0c9eadb43",
   "metadata": {},
   "outputs": [
    {
     "data": {
      "text/plain": [
       "'t'"
      ]
     },
     "execution_count": 14,
     "metadata": {},
     "output_type": "execute_result"
    }
   ],
   "source": [
    "txt[-2]"
   ]
  },
  {
   "cell_type": "code",
   "execution_count": 15,
   "id": "0f733453-3fe8-438f-85e0-3bc716577aa4",
   "metadata": {},
   "outputs": [
    {
     "name": "stdout",
     "output_type": "stream",
     "text": [
      "falsch\n"
     ]
    }
   ],
   "source": [
    "if txt[-2]!='t' :\n",
    "    print(\"Tatsache\")\n",
    "else:\n",
    "    print(\"falsch\")"
   ]
  },
  {
   "cell_type": "code",
   "execution_count": 16,
   "id": "efcd9794-4822-408f-9146-1bdcae63225b",
   "metadata": {},
   "outputs": [
    {
     "name": "stdout",
     "output_type": "stream",
     "text": [
      "10\n",
      "12\n",
      "14\n",
      "16\n",
      "18\n"
     ]
    }
   ],
   "source": [
    "for i in range(10, 20, 2):\n",
    "    print(i)"
   ]
  },
  {
   "cell_type": "code",
   "execution_count": 17,
   "id": "b688d091-a250-4df3-8bd2-1380dfcfa6b4",
   "metadata": {},
   "outputs": [
    {
     "data": {
      "text/plain": [
       "18"
      ]
     },
     "execution_count": 17,
     "metadata": {},
     "output_type": "execute_result"
    }
   ],
   "source": [
    "i"
   ]
  }
 ],
 "metadata": {
  "kernelspec": {
   "display_name": "Python 3",
   "language": "python",
   "name": "python3"
  },
  "language_info": {
   "codemirror_mode": {
    "name": "ipython",
    "version": 3
   },
   "file_extension": ".py",
   "mimetype": "text/x-python",
   "name": "python",
   "nbconvert_exporter": "python",
   "pygments_lexer": "ipython3",
   "version": "3.8.8"
  }
 },
 "nbformat": 4,
 "nbformat_minor": 5
}
