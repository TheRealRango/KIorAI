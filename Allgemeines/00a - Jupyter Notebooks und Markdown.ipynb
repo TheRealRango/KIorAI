{
 "cells": [
  {
   "cell_type": "markdown",
   "metadata": {},
   "source": [
    "# Jupyter Notebooks"
   ]
  },
  {
   "cell_type": "code",
   "execution_count": null,
   "metadata": {},
   "outputs": [],
   "source": []
  },
  {
   "cell_type": "code",
   "execution_count": null,
   "metadata": {},
   "outputs": [],
   "source": [
    "Der folgende Link gibt eine gute kurze [Einführung in Jupyter Notebooks](https://databraineo.com/ki-training-resources/python/jupyter-lab-shortcuts-steigere-deine-produktivitaet-auch-fuer-jupyter-notebook/).\n",
    "\n",
    "Beim Arbeiten mit Notebooks befindet man sich immer in einem der folgenden beiden Modi:\n",
    "- **Editiermodus:** dient zum *Bearbeiten* einer Code- oder Markdown-Zelle. In den Editiermodus wechselt man (aus dem Befehlsmodus) durch Drücken der **Enter**-Taste.\n",
    "- **Befehlsmodus:** dient zum Ändern der Struktur (Zellen einfügen, verschieben, löschen, usw). In den Befehlsmodus wechselt man (aus dem Editiermodus) durch Drücken der **ESC**-Taste."
   ]
  },
  {
   "cell_type": "markdown",
   "metadata": {},
   "source": [
    "### Wichtige Tastaturbefehle\n",
    "<img src=\"attachment:80fb3c9f-50e1-4dcc-997c-c5d47d6e50e1.png\" width=\"70%\">"
   ]
  },
  {
   "cell_type": "code",
   "execution_count": null,
   "metadata": {},
   "outputs": [],
   "source": [
    "# Markdown\n",
    "In Jupyter nutzt man [Markdown](https://de.wikipedia.org/wiki/Markdown) um Texte und Grafiken zu erstellen. In der folgenden Zelle findest du einige Beispiele dafür."
   ]
  },
  {
   "cell_type": "code",
   "execution_count": null,
   "metadata": {},
   "outputs": [],
   "source": []
  },
  {
   "cell_type": "markdown",
   "metadata": {},
   "source": [
    "Wechsle mit der **ENTER**-Taste in den Editiermodus dieser Zelle, um zu sehen, wie die folgenden Effekte erzeugt werden.\n",
    "# Überschrift Ebene 1\n",
    "## Überschrift Ebene 2\n",
    "### Überschrift Ebene 3\n",
    "#### Überschrift Ebene 4\n",
    "\n",
    "Normaler Text. Zeilenumbruch erfordert am Zeilenende 2 Leerzeichen  \n",
    "oder ein <br>\n",
    "\n",
    "#### Zeichenformatierung\n",
    "__fett__ oder **bold**  \n",
    "_kursiv_ oder *italic*  \n",
    "`Quellcode`  \n",
    "> Indented quoting\n",
    "\n",
    "#### Farbiger Text. \n",
    "Es gibt: <font color=red>red </font><font color=blue>blue </font>\n",
    "<font color=green >green </font><font color=pink>pink </font><font color=yellow>yellow</font>\n",
    "\n",
    "#### Formeln\n",
    "Werden in Latex beschrieben. Siehe u.a. http://www.malinc.se/math/latex/basiccodeen.php   \n",
    "$ c = \\sqrt{a^2 + b^2} $  \n",
    "\n",
    "#### Nummerierte Liste\n",
    "1. Eintrag 1\n",
    "2. Eintrag 2\n",
    "\n",
    "#### Normale Liste\n",
    "- Listeneintrag 1\n",
    "- Listeneintrag 2\n",
    "\n",
    "#### Hyperlinks\n",
    "[Beschriftung des Hyperlinks](https://de.wikipedia.org/ \"Titel, der beim Überfahren mit der Maus angezeigt wird\")\n",
    "\n",
    "#### Geometrische Formen\n",
    "&#9658; siehe https://www.w3schools.com/charsets/ref_utf_geometric.asp\n",
    "\n",
    "#### Tabellen\n",
    "siehe https://www.tablesgenerator.com/markdown_tables  \n",
    "und https://markdown-here.com/\n",
    "\n",
    "| Datum     \t| Vertreter\t| Kunde       \t| Region\t| Umsatz\t|\n",
    "|-----------\t|----------\t|------------\t|-------\t|-------\t|\n",
    "| 12.10.2020 \t| Müller \t| Steel GmbH \t| Baden \t| 120000  \t|\n",
    "| 23.11.2020   \t| Meier    \t| ABC GbR      \t| Schwaben \t| 190000  \t|\n",
    "\n",
    "#### Images\n",
    " <img src=\"images/smiley.png\" width=\"100\" height=\"100\">\n",
    "\n",
    "#### Horizontale Linie\n",
    "***\n",
    "\n",
    "#### Weitere Cheats für die Bearbeitung von Markdowns \n",
    "https://medium.com/ibm-data-science-experience/markdown-for-jupyter-notebooks-cheatsheet-386c05aeebed"
   ]
  },
  {
   "cell_type": "code",
   "execution_count": 3,
   "metadata": {},
   "outputs": [],
   "source": [
    "a=5"
   ]
  },
  {
   "cell_type": "code",
   "execution_count": 4,
   "metadata": {},
   "outputs": [
    {
     "name": "stdout",
     "output_type": "stream",
     "text": [
      "10\n"
     ]
    }
   ],
   "source": [
    "print(a*2)"
   ]
  },
  {
   "cell_type": "markdown",
   "metadata": {},
   "source": [
    "$f(x)=x^2+7$"
   ]
  },
  {
   "cell_type": "markdown",
   "metadata": {},
   "source": [
    "$x_i= \\sqrt(\\frac{5}{7})$"
   ]
  },
  {
   "cell_type": "code",
   "execution_count": 5,
   "metadata": {},
   "outputs": [
    {
     "data": {
      "text/plain": [
       "12"
      ]
     },
     "execution_count": 5,
     "metadata": {},
     "output_type": "execute_result"
    }
   ],
   "source": [
    "5+7"
   ]
  },
  {
   "cell_type": "code",
   "execution_count": 6,
   "metadata": {},
   "outputs": [
    {
     "data": {
      "text/plain": [
       "125"
      ]
     },
     "execution_count": 6,
     "metadata": {},
     "output_type": "execute_result"
    }
   ],
   "source": [
    "5**3"
   ]
  },
  {
   "cell_type": "code",
   "execution_count": 7,
   "metadata": {},
   "outputs": [
    {
     "data": {
      "text/plain": [
       "6"
      ]
     },
     "execution_count": 7,
     "metadata": {},
     "output_type": "execute_result"
    }
   ],
   "source": [
    "5^3"
   ]
  },
  {
   "cell_type": "code",
   "execution_count": 8,
   "metadata": {},
   "outputs": [
    {
     "data": {
      "text/plain": [
       "62.5"
      ]
     },
     "execution_count": 8,
     "metadata": {},
     "output_type": "execute_result"
    }
   ],
   "source": [
    "125/2"
   ]
  },
  {
   "cell_type": "code",
   "execution_count": 9,
   "metadata": {},
   "outputs": [
    {
     "data": {
      "text/plain": [
       "62"
      ]
     },
     "execution_count": 9,
     "metadata": {},
     "output_type": "execute_result"
    }
   ],
   "source": [
    "125//2"
   ]
  },
  {
   "cell_type": "code",
   "execution_count": 10,
   "metadata": {},
   "outputs": [
    {
     "data": {
      "text/plain": [
       "1"
      ]
     },
     "execution_count": 10,
     "metadata": {},
     "output_type": "execute_result"
    }
   ],
   "source": [
    "125%2"
   ]
  },
  {
   "cell_type": "code",
   "execution_count": 11,
   "metadata": {},
   "outputs": [],
   "source": [
    "a= 125"
   ]
  },
  {
   "cell_type": "code",
   "execution_count": 12,
   "metadata": {},
   "outputs": [
    {
     "data": {
      "text/plain": [
       "125"
      ]
     },
     "execution_count": 12,
     "metadata": {},
     "output_type": "execute_result"
    }
   ],
   "source": [
    "a"
   ]
  },
  {
   "cell_type": "code",
   "execution_count": 13,
   "metadata": {},
   "outputs": [
    {
     "data": {
      "text/plain": [
       "125"
      ]
     },
     "execution_count": 13,
     "metadata": {},
     "output_type": "execute_result"
    }
   ],
   "source": [
    "a"
   ]
  },
  {
   "cell_type": "code",
   "execution_count": 14,
   "metadata": {},
   "outputs": [
    {
     "name": "stdout",
     "output_type": "stream",
     "text": [
      "125\n"
     ]
    }
   ],
   "source": [
    "print(a)"
   ]
  },
  {
   "cell_type": "code",
   "execution_count": 15,
   "metadata": {},
   "outputs": [
    {
     "data": {
      "text/plain": [
       "125"
      ]
     },
     "execution_count": 15,
     "metadata": {},
     "output_type": "execute_result"
    }
   ],
   "source": [
    "a"
   ]
  },
  {
   "cell_type": "code",
   "execution_count": 16,
   "metadata": {},
   "outputs": [
    {
     "name": "stdout",
     "output_type": "stream",
     "text": [
      "-2\n"
     ]
    }
   ],
   "source": [
    "a\n",
    "print(5-7)"
   ]
  },
  {
   "cell_type": "code",
   "execution_count": 17,
   "metadata": {},
   "outputs": [
    {
     "data": {
      "text/plain": [
       "125"
      ]
     },
     "execution_count": 17,
     "metadata": {},
     "output_type": "execute_result"
    }
   ],
   "source": [
    "a"
   ]
  },
  {
   "cell_type": "code",
   "execution_count": 18,
   "metadata": {},
   "outputs": [
    {
     "data": {
      "text/plain": [
       "int"
      ]
     },
     "execution_count": 18,
     "metadata": {},
     "output_type": "execute_result"
    }
   ],
   "source": [
    "type(a)"
   ]
  },
  {
   "cell_type": "code",
   "execution_count": 19,
   "metadata": {},
   "outputs": [],
   "source": [
    "a='hallo'"
   ]
  },
  {
   "cell_type": "code",
   "execution_count": 20,
   "metadata": {},
   "outputs": [
    {
     "data": {
      "text/plain": [
       "str"
      ]
     },
     "execution_count": 20,
     "metadata": {},
     "output_type": "execute_result"
    }
   ],
   "source": [
    "type(a)"
   ]
  },
  {
   "cell_type": "code",
   "execution_count": 23,
   "metadata": {},
   "outputs": [],
   "source": [
    "running = True"
   ]
  },
  {
   "cell_type": "code",
   "execution_count": 24,
   "metadata": {},
   "outputs": [
    {
     "data": {
      "text/plain": [
       "bool"
      ]
     },
     "execution_count": 24,
     "metadata": {},
     "output_type": "execute_result"
    }
   ],
   "source": [
    "type(running)"
   ]
  },
  {
   "cell_type": "code",
   "execution_count": 25,
   "metadata": {},
   "outputs": [
    {
     "data": {
      "text/plain": [
       "True"
      ]
     },
     "execution_count": 25,
     "metadata": {},
     "output_type": "execute_result"
    }
   ],
   "source": [
    "running"
   ]
  },
  {
   "cell_type": "code",
   "execution_count": 26,
   "metadata": {},
   "outputs": [],
   "source": [
    "a=13"
   ]
  },
  {
   "cell_type": "code",
   "execution_count": 27,
   "metadata": {},
   "outputs": [
    {
     "name": "stdout",
     "output_type": "stream",
     "text": [
      "<class 'int'>\n"
     ]
    }
   ],
   "source": [
    "print(type(a))\n",
    "a=a/2"
   ]
  },
  {
   "cell_type": "code",
   "execution_count": 28,
   "metadata": {},
   "outputs": [
    {
     "name": "stdout",
     "output_type": "stream",
     "text": [
      "<class 'float'>\n"
     ]
    }
   ],
   "source": [
    "print(type(a))"
   ]
  },
  {
   "cell_type": "code",
   "execution_count": 29,
   "metadata": {},
   "outputs": [
    {
     "data": {
      "text/plain": [
       "6.5"
      ]
     },
     "execution_count": 29,
     "metadata": {},
     "output_type": "execute_result"
    }
   ],
   "source": [
    "a"
   ]
  },
  {
   "cell_type": "code",
   "execution_count": null,
   "metadata": {},
   "outputs": [],
   "source": []
  }
 ],
 "metadata": {
  "kernelspec": {
   "display_name": "Python 3",
   "language": "python",
   "name": "python3"
  },
  "language_info": {
   "codemirror_mode": {
    "name": "ipython",
    "version": 3
   },
   "file_extension": ".py",
   "mimetype": "text/x-python",
   "name": "python",
   "nbconvert_exporter": "python",
   "pygments_lexer": "ipython3",
   "version": "3.8.8"
  }
 },
 "nbformat": 4,
 "nbformat_minor": 4
}
